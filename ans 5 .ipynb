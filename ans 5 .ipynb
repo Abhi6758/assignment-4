{
 "cells": [
  {
   "cell_type": "code",
   "execution_count": 2,
   "id": "b9c4a705-edb8-4c76-94cb-4e850a23a815",
   "metadata": {},
   "outputs": [
    {
     "name": "stdout",
     "output_type": "stream",
     "text": [
      "[6, 60, 90, 120]\n"
     ]
    }
   ],
   "source": [
    "l = [2, 3, 6, 9, 27, 60, 90, 120, 55, 46]\n",
    "lf = list(filter(lambda x: x % 2 == 0 and x % 3 == 0, l))\n",
    "print(lf)\n"
   ]
  },
  {
   "cell_type": "code",
   "execution_count": null,
   "id": "0d50b050-d103-48e4-9e0a-991a26e1bd39",
   "metadata": {},
   "outputs": [],
   "source": []
  }
 ],
 "metadata": {
  "kernelspec": {
   "display_name": "Python 3 (ipykernel)",
   "language": "python",
   "name": "python3"
  },
  "language_info": {
   "codemirror_mode": {
    "name": "ipython",
    "version": 3
   },
   "file_extension": ".py",
   "mimetype": "text/x-python",
   "name": "python",
   "nbconvert_exporter": "python",
   "pygments_lexer": "ipython3",
   "version": "3.10.8"
  }
 },
 "nbformat": 4,
 "nbformat_minor": 5
}
